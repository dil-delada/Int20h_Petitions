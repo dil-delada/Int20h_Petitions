{
 "cells": [
  {
   "cell_type": "code",
   "execution_count": 296,
   "metadata": {},
   "outputs": [],
   "source": [
    "import nltk\n",
    "from nltk.tokenize import sent_tokenize\n",
    "from nltk.tokenize import word_tokenize\n",
    "from nltk import pos_tag\n",
    "import numpy\n",
    "import sys\n",
    "import codecs\n",
    "import operator\n",
    "import pymorphy2\n",
    "#from pymorphy2 import MorphAnalyzer\n",
    "import datetime\n",
    "from datetime import datetime\n",
    "from collections import Counter\n",
    "import matplotlib.pyplot as plt\n",
    "import re"
   ]
  },
  {
   "cell_type": "code",
   "execution_count": 16,
   "metadata": {
    "collapsed": true
   },
   "outputs": [],
   "source": [
    "#Read text from csv as dataframe\n",
    "import pandas\n",
    "petitions = pandas.read_csv('C:\\\\Users\\\\Olha\\\\Desktop\\\\TARTU\\\\_Hackathons\\\\Int20h\\\\petitions_data_with_text.csv', encoding='utf-8')"
   ]
  },
  {
   "cell_type": "code",
   "execution_count": 36,
   "metadata": {},
   "outputs": [
    {
     "data": {
      "text/plain": [
       "Index(['Unnamed: 0', 'author', 'start_date', 'status', 'number_of_votes',\n",
       "       'number_of_necessary_votes', 'end_date', 'name', 'url', 'text'],\n",
       "      dtype='object')"
      ]
     },
     "execution_count": 36,
     "metadata": {},
     "output_type": "execute_result"
    }
   ],
   "source": [
    "#names of columns\n",
    "petitions.columns"
   ]
  },
  {
   "cell_type": "code",
   "execution_count": 38,
   "metadata": {},
   "outputs": [
    {
     "data": {
      "text/plain": [
       "array([1, 'Повзик Ігор Володимирович', '2015-10-04 12:37:27',\n",
       "       'Підписання завершено (недостатньо підписів)', 494, 10000,\n",
       "       '2016-01-31 20:06:43',\n",
       "       'Повністю реконструювати Шулявську розв&#039;язку',\n",
       "       'https://petition.kievcity.gov.ua/petition/?pid=3',\n",
       "       'Це питання не вирішується роками.\\r\\n Розв&rsquo;язка дуже незручна для водіїв. Міст скоро впаде на голови пішоходів. Процвітає стихійна торгівля. \\r\\n\\r\\n p.s. (як приклад проект Віктора Петрука) '], dtype=object)"
      ]
     },
     "execution_count": 38,
     "metadata": {},
     "output_type": "execute_result"
    }
   ],
   "source": [
    "#example of one row - one petition\n",
    "petitions.values[1]"
   ]
  },
  {
   "cell_type": "code",
   "execution_count": 37,
   "metadata": {},
   "outputs": [
    {
     "name": "stdout",
     "output_type": "stream",
     "text": [
      "4536\n"
     ]
    }
   ],
   "source": [
    "#number of petitions\n",
    "print(len(petitions))"
   ]
  },
  {
   "cell_type": "code",
   "execution_count": 193,
   "metadata": {},
   "outputs": [
    {
     "name": "stdout",
     "output_type": "stream",
     "text": [
      "Number of successful petitions: 46\n",
      "Number of not successful petitions: 4490\n",
      "4536\n"
     ]
    }
   ],
   "source": [
    "#number of non-successful/successful petitions\n",
    "non_success_ids = []\n",
    "success_ids = []\n",
    "\n",
    "for i in range(len(petitions)):\n",
    "    bigger = 0\n",
    "    now = datetime.now()\n",
    "    date_end = datetime.strptime(petitions['end_date'].values[i], '%Y-%m-%d %H:%M:%S')\n",
    "    date_begin = datetime.strptime(petitions['start_date'].values[i], '%Y-%m-%d %H:%M:%S')\n",
    "    middle = date_begin + (date_end - date_begin)/2\n",
    "    if '(недостатньо підписів)' in petitions['status'].values[i]:\n",
    "        non_success_ids.append(i)\n",
    "    elif '(достатньо підписів)' in petitions['status'].values[i]:\n",
    "        success_ids.append(i)\n",
    "    elif \"На підписанні\" in petitions['status'].values[i]:\n",
    "        if petitions['number_of_votes'].values[i] >= petitions['number_of_necessary_votes'].values[i]/2 and now <= middle: \n",
    "            success_ids.append(i)\n",
    "        else: \n",
    "            non_success_ids.append(i)\n",
    "    else:\n",
    "        print('Unusual status:', petitions['status'].values[i])\n",
    "print(\"Number of successful petitions:\", len(success_ids))\n",
    "print(\"Number of not successful petitions:\", len(non_success_ids))\n",
    "print(len(non_success_ids) + len(success_ids))"
   ]
  },
  {
   "cell_type": "code",
   "execution_count": 71,
   "metadata": {
    "collapsed": true
   },
   "outputs": [],
   "source": [
    "#percenteges for successful petitions\n",
    "\n",
    "success_perc = {}\n",
    "for i in success_ids:\n",
    "    success_perc[i] = round(petitions['number_of_votes'].values[i]/petitions['number_of_necessary_votes'].values[i], 4)\n",
    "#print(sorted(success_perc.values()))"
   ]
  },
  {
   "cell_type": "code",
   "execution_count": 115,
   "metadata": {
    "collapsed": true
   },
   "outputs": [],
   "source": [
    "general_good = []\n",
    "for i in success_ids:\n",
    "    general_good.append(petitions['text'].values[i])\n",
    "    \n",
    "general_bad = []\n",
    "for i in non_success_ids:\n",
    "    general_bad.append(petitions['text'].values[i])"
   ]
  },
  {
   "cell_type": "code",
   "execution_count": 116,
   "metadata": {
    "collapsed": true
   },
   "outputs": [],
   "source": [
    "def clean(text):\n",
    "    for i in range(len(text)):\n",
    "        text[i] = text[i].replace('&rsquo;', \"'\")        \n",
    "        text[i] = text[i].replace(\"\\'\", \"'\")\n",
    "        text[i] = text[i].replace('&#039;', \"'\")\n",
    "        text[i] = text[i].replace('\\n', '')\n",
    "        text[i] = text[i].replace('\\n&bull;', '')\n",
    "        text[i] = text[i].replace('\\r', '')\n",
    "        text[i] = text[i].replace('&amp;', '&')\n",
    "        text[i] = text[i].replace('&laquo;', '\"')\n",
    "        text[i] = text[i].replace('&copy;', '')\n",
    "        text[i] = text[i].replace('&mdash;', '-')    \n",
    "        text[i] = text[i].replace('&ndash;', '-')\n",
    "        text[i] = text[i].replace('&raquo;', '\"')\n",
    "clean(general_good)\n",
    "clean(general_bad)"
   ]
  },
  {
   "cell_type": "code",
   "execution_count": 134,
   "metadata": {},
   "outputs": [
    {
     "name": "stdout",
     "output_type": "stream",
     "text": [
      "In successful petitions:\n",
      "Number of words:  8956\n",
      "Number of sentences:  318\n",
      "Number of unique words:  4092\n",
      "The average number of words in sentences:  32.0\n",
      "The average lenght of words:  6.0\n",
      "In non successful petitions:\n",
      "Number of words:  512168\n",
      "Number of sentences:  22746\n",
      "Number of unique words:  77523\n",
      "The average number of words in sentences:  26.0\n",
      "The average lenght of words:  5.0\n"
     ]
    }
   ],
   "source": [
    "def numeric(text):\n",
    "    #sentences, words and word types\n",
    "    words = []\n",
    "    sents = []\n",
    "    for i in range(len(text)):\n",
    "        words += word_tokenize(text[i])\n",
    "        sents += sent_tokenize(text[i])\n",
    "\n",
    "    nwords = len(words)\n",
    "    nsents = len(sents)\n",
    "    nwtypes = len(list(set(words)))\n",
    "\n",
    "    print(\"Number of words: \", nwords)\n",
    "    print(\"Number of sentences: \", nsents)\n",
    "    print(\"Number of unique words: \", nwtypes)\n",
    "\n",
    "    #The average length of the sentences\n",
    "    lens = []\n",
    "    for i in range (0, nsents):\n",
    "        lens.append(len(sents[i]))\n",
    "    avg_sent_length = numpy.mean(lens)\n",
    "\n",
    "    #The average length of the words\n",
    "    distinct_word_lengths = []    \n",
    "    for i in range (0, nwords):\n",
    "        distinct_word_lengths.append(len(words[i]))\n",
    "    avg_word_length = numpy.mean(distinct_word_lengths)\n",
    "    \n",
    "    avg_sents = round(avg_sent_length/avg_word_length)\n",
    "    avg_words = round(avg_word_length)\n",
    "\n",
    "    print(\"The average number of words in sentences: \", avg_sents)\n",
    "    print(\"The average lenght of words: \", avg_words)\n",
    "    \n",
    "    return words, nwords, nsents, nwtypes, lens, avg_sents, distinct_word_lengths, avg_words\n",
    "\n",
    "print(\"In successful petitions:\")\n",
    "words_good, nwords_good, nsents_good, nwtypes_good, lens_good, avg_sents_good, distinct_word_lengths_good, avg_words_good = numeric(general_good)\n",
    "print(\"In non successful petitions:\")\n",
    "words_bad, nwords_bad, nsents_bad, nwtypes_bad, lens_bad, avg_sents_bad, distinct_word_lengths_bad, avg_words_bad = numeric(general_bad)"
   ]
  },
  {
   "cell_type": "code",
   "execution_count": 135,
   "metadata": {},
   "outputs": [
    {
     "name": "stdout",
     "output_type": "stream",
     "text": [
      "Ttest_indResult(statistic=5.170691673606739, pvalue=2.3517623150655901e-07)\n",
      "Ttest_indResult(statistic=5.999977391879864, pvalue=1.9747447390123618e-09)\n"
     ]
    }
   ],
   "source": [
    "#statistic hypotesis\n",
    "from scipy.stats import ttest_ind\n",
    "\n",
    "print(ttest_ind(lens_good, lens_bad))\n",
    "#result: good petitions have bigger lenght of sentences than bad ones\n",
    "\n",
    "print(ttest_ind(distinct_word_lengths_good, distinct_word_lengths_bad))\n",
    "#result: good petitions have bigger lenght of words than bad ones"
   ]
  },
  {
   "cell_type": "code",
   "execution_count": 244,
   "metadata": {},
   "outputs": [
    {
     "name": "stdout",
     "output_type": "stream",
     "text": [
      "Number of 'extra !' in text of good petitions:  8\n",
      "Number of 'extra !' in text of bad petitions:  530\n",
      "Number of 'extra !' in text of good petitions per sentences:  0.025157232704402517\n",
      "Number of 'extra !' in text of bad petitions per sentences:  0.023300800140684075\n"
     ]
    }
   ],
   "source": [
    "def exclamation(text):\n",
    "    counter_exclamation = 0\n",
    "    i = 1\n",
    "    while i < len(text):\n",
    "        if text[i] == '!' and text[i-1] == \"!\":\n",
    "            counter_exclamation += 1\n",
    "            i += 2\n",
    "        else:\n",
    "            i += 1\n",
    "    return counter_exclamation\n",
    "\n",
    "counter_exclamation_good = exclamation(words_good)\n",
    "print(\"Number of 'extra !' in text of good petitions: \", counter_exclamation_good)\n",
    "counter_exclamation_bad = exclamation(words_bad)\n",
    "print(\"Number of 'extra !' in text of bad petitions: \", counter_exclamation_bad)\n",
    "print(\"Number of 'extra !' in text of good petitions per sentences: \", counter_exclamation_good/nsents_good)\n",
    "print(\"Number of 'extra !' in text of bad petitions per sentences: \", counter_exclamation_bad/nsents_bad)\n",
    "#number of ! don't influent on petition success"
   ]
  },
  {
   "cell_type": "code",
   "execution_count": 310,
   "metadata": {
    "collapsed": true
   },
   "outputs": [],
   "source": [
    "def frequency_words(words):\n",
    "    d = dict()\n",
    "    #filtering\n",
    "    sign = [',', '.', '-', '!', '?', ':', ';', '...', '''''' , '``', '..', '*', '—', '\\'\\'', '’', ')', '(', '|']\n",
    "    cleaned_words = [word for word in words if word not in sign]\n",
    "    \n",
    "    #stemmatization\n",
    "    stemmer_ = nltk.SnowballStemmer('russian')\n",
    "    stemmed_words = []\n",
    "    for w in cleaned_words:\n",
    "        stemmed_words.append(stemmer_.stem(w))\n",
    "\n",
    "    #delete stopwords\n",
    "    with codecs.open('C:\\\\Users\\\\Olha\\\\Desktop\\\\TARTU\\\\_Hackathons\\\\Int20h\\\\stop_ukr.txt',encoding='cp1251') as ins:\n",
    "        stop_words = ins.read()\n",
    "    without_stop = [word for word in stemmed_words if word not in stop_words and len(word)>3]\n",
    "    \n",
    "    for i in range(len(without_stop)):\n",
    "        st = without_stop[i]\n",
    "        st = re.sub(r'<[^>]+>', r'',st).strip() # HTML tags\n",
    "        st = re.sub(r'http[s]?://(?:[a-z]|[0-9]|[$-_@.&amp;+]|[!*\\(\\),]|(?:%[0-9a-f][0-9a-f]))+', r'',st).strip()  # URLs \n",
    "        st = re.sub(r'(?:(?:\\d+,?)+(?:\\.?\\d+)?)', r'',st).strip() # numbers\n",
    "        without_stop[i] = st\n",
    "        \n",
    "    for w in without_stop:\n",
    "        if w in d.keys():\n",
    "            d[w] += 1\n",
    "        else:\n",
    "            d[w] = 1\n",
    "    a = Counter(d)\n",
    "    b = a.most_common(100)\n",
    "    return without_stop, b\n",
    "\n",
    "text_good, dict_good = frequency_words(words_good)\n",
    "text_bad, dict_bad = frequency_words(words_bad)"
   ]
  },
  {
   "cell_type": "code",
   "execution_count": 311,
   "metadata": {},
   "outputs": [
    {
     "name": "stdout",
     "output_type": "stream",
     "text": [
      "The most frequent words in successful petitions\n"
     ]
    },
    {
     "data": {
      "image/png": "[encoded data removed]",
      "text/plain": [
       "<matplotlib.figure.Figure at 0x208a2532470>"
      ]
     },
     "metadata": {},
     "output_type": "display_data"
    },
    {
     "name": "stdout",
     "output_type": "stream",
     "text": [
      "The most frequent words in not successful petitions\n"
     ]
    },
    {
     "data": {
      "image/png": "[encoded data removed]",
      "text/plain": [
       "<matplotlib.figure.Figure at 0x208a12cb320>"
      ]
     },
     "metadata": {},
     "output_type": "display_data"
    }
   ],
   "source": [
    "def plot_popular(text):\n",
    "    plt.xticks(numpy.arange(len([k for k in text])), [k[0] for k in text], rotation = 90)\n",
    "    plt.plot(numpy.arange(len([k for k in text])), [k[1] for k in text])\n",
    "    plt.show()\n",
    "print(\"The most frequent words in successful petitions\")\n",
    "plot_popular(dict_good[:30])\n",
    "print(\"The most frequent words in not successful petitions\")\n",
    "plot_popular(dict_bad[:30])"
   ]
  },
  {
   "cell_type": "code",
   "execution_count": 307,
   "metadata": {},
   "outputs": [],
   "source": [
    "with open(\"C:\\\\Users\\\\Olha\\\\Desktop\\\\TARTU\\\\_Hackathons\\\\Int20h\\\\bad.txt\", \"w\", encoding='utf-8') as f:\n",
    "    for i in range(len(text_bad)):\n",
    "        f.write(text_bad[i].lower() + \" \")\n",
    "with open(\"C:\\\\Users\\\\Olha\\\\Desktop\\\\TARTU\\\\_Hackathons\\\\Int20h\\\\good.txt\", \"w\", encoding='utf-8') as f:\n",
    "    for i in range(len(text_good)):\n",
    "        f.write(text_good[i].lower() + \" \")"
   ]
  },
  {
   "cell_type": "code",
   "execution_count": null,
   "metadata": {
    "collapsed": true
   },
   "outputs": [],
   "source": []
  }
 ],
 "metadata": {
  "kernelspec": {
   "display_name": "Python 3",
   "language": "python",
   "name": "python3"
  },
  "language_info": {
   "codemirror_mode": {
    "name": "ipython",
    "version": 3
   },
   "file_extension": ".py",
   "mimetype": "text/x-python",
   "name": "python",
   "nbconvert_exporter": "python",
   "pygments_lexer": "ipython3",
   "version": "3.6.2"
  }
 },
 "nbformat": 4,
 "nbformat_minor": 2
}
