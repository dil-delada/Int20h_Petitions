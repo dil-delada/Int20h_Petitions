{
 "cells": [
  {
   "cell_type": "code",
   "execution_count": 5,
   "metadata": {
    "collapsed": true
   },
   "outputs": [],
   "source": [
    "import nltk\n",
    "from nltk.tokenize import sent_tokenize\n",
    "from nltk.tokenize import word_tokenize\n",
    "from nltk import pos_tag\n",
    "import numpy\n",
    "import sys\n",
    "import codecs\n",
    "import operator\n",
    "import pymorphy2\n",
    "import datetime\n",
    "from datetime import datetime\n",
    "from collections import Counter\n",
    "import matplotlib.pyplot as plt\n",
    "import re"
   ]
  },
  {
   "cell_type": "code",
   "execution_count": 19,
   "metadata": {
    "collapsed": true
   },
   "outputs": [],
   "source": [
    "petit = 'Прошу запровадити закон про заборону експлуатації диких тварин у цирках! В наш час цирк - це одне з найбільш популярних місць для сімейного відпочинку, особливо, з маленькими дітьми. Дітям купують солодку вату, цукерки, повітряні кульки, а потім саджають на стілець і показують катування тварин. Діти сміються, бо не розуміють ситуацію, але ми, дорослі, маємо це розуміти! Чужі страждання це не привід для сміху! Тисячі тварин гинуть в жалхивих умовах від холоду, голоду та побоїв, виконуючі неприродні накази, принижуючись та терплячи знущання! Дикі тварини - не іграшки! Давайте повернемо людське обличчя Київському зоопарку! Наповнимо циркову програму гімнастами, фокусниками і клоунами, а не чужим болем і стражданням! Будь ласка, підтримайте мою ініціативу! Поширюйте це звернення у соціальних мережах і розповідайте знайомим! ЗМІНИМО ОБЛИЧЧЯ НАШОГО МІСТА РАЗОМ!'"
   ]
  },
  {
   "cell_type": "code",
   "execution_count": 20,
   "metadata": {},
   "outputs": [],
   "source": [
    "def clean(text):    \n",
    "    text = text.replace(\"\\'\", \"'\")\n",
    "    text = text.replace('\\n', '')\n",
    "    text = text.replace('\\r', '')\n",
    "    return text\n",
    "petit = clean(petit)"
   ]
  },
  {
   "cell_type": "code",
   "execution_count": 33,
   "metadata": {},
   "outputs": [
    {
     "name": "stdout",
     "output_type": "stream",
     "text": [
      "Number of words:  151\n",
      "Number of sentences:  12\n",
      "The part of CAPS words:  0.23178807947019867\n",
      "The average number of words in sentences:  14.0\n",
      "The average lenght of words:  5.0\n",
      "['False', 'False', 'False']\n"
     ]
    }
   ],
   "source": [
    "def numeric(text):\n",
    "    \n",
    "    #sentences, words and word types\n",
    "    words = []\n",
    "    sents = []\n",
    "    for i in range(len(text)):\n",
    "        words += word_tokenize(text[i])\n",
    "        sents += sent_tokenize(text[i])\n",
    "\n",
    "    nwords = len(words)\n",
    "    nsents = len(sents)\n",
    "\n",
    "    print(\"Number of words: \", nwords)\n",
    "    print(\"Number of sentences: \", nsents)\n",
    "\n",
    "    #caps detect\n",
    "    caps = 0\n",
    "    for i in range (0, nwords):\n",
    "        if words[i] == words[i].upper():\n",
    "            caps += 1\n",
    "    caps_freq = caps/nwords\n",
    "    print(\"The part of CAPS words: \", caps_freq)\n",
    "    \n",
    "    #the average length of the sentences\n",
    "    lens = []\n",
    "    for i in range (0, nsents):\n",
    "        lens.append(len(sents[i]))\n",
    "    avg_sent_length = numpy.mean(lens)\n",
    "\n",
    "    #the average length of the words\n",
    "    distinct_word_lengths = []    \n",
    "    for i in range (0, nwords):\n",
    "        distinct_word_lengths.append(len(words[i]))\n",
    "    avg_word_length = numpy.mean(distinct_word_lengths)\n",
    "    \n",
    "    avg_sents = round(avg_sent_length/avg_word_length)\n",
    "    avg_words = round(avg_word_length)\n",
    "\n",
    "    print(\"The average number of words in sentences: \", avg_sents)\n",
    "    print(\"The average lenght of words: \", avg_words)\n",
    "        \n",
    "    truefalse = []\n",
    "    #first value - avarage number of words in sentences, for good should be > 25\n",
    "    if avg_sents > 26:\n",
    "        truefalse.append('True')\n",
    "    else:\n",
    "        truefalse.append('False')\n",
    "    #second value - avarage lenght of words, for good should be > 5\n",
    "    if avg_words > 5:\n",
    "        truefalse.append('True')\n",
    "    else:\n",
    "        truefalse.append('False')\n",
    "    #thrird value - frequency of CAPS words, for good should be <= 0.19\n",
    "    if caps_freq > 0.19:\n",
    "        truefalse.append('False')\n",
    "    else:\n",
    "        truefalse.append('True')\n",
    "    \n",
    "    return words, truefalse\n",
    "\n",
    "words, result = numeric([petit])\n",
    "print(result)"
   ]
  },
  {
   "cell_type": "code",
   "execution_count": 8,
   "metadata": {
    "collapsed": true
   },
   "outputs": [],
   "source": [
    "with open(\"C:\\\\Users\\\\Olha\\\\Desktop\\\\TARTU\\\\_Hackathons\\\\Int20h\\\\bad_uniq.txt\", \"r\", encoding='utf-8') as f:\n",
    "    bad_uniq = (f.read()).split(' ')\n",
    "with open(\"C:\\\\Users\\\\Olha\\\\Desktop\\\\TARTU\\\\_Hackathons\\\\Int20h\\\\good_uniq.txt\", \"r\", encoding='utf-8') as f:\n",
    "    good_uniq = (f.read()).split(' ')\n",
    "with open(\"C:\\\\Users\\\\Olha\\\\Desktop\\\\TARTU\\\\_Hackathons\\\\Int20h\\\\intersect.txt\", \"r\", encoding='utf-8') as f:\n",
    "    intersect = (f.read()).split(' ')"
   ]
  },
  {
   "cell_type": "code",
   "execution_count": 50,
   "metadata": {
    "collapsed": true
   },
   "outputs": [],
   "source": [
    "def frequency_words(words):\n",
    "    d = dict()\n",
    "    #filtering\n",
    "    sign = [',', '.', '-', '!', '?', ':', ';', '...', '''''' , '``', '..', '*', '—', '\\'\\'', '’', ')', '(', '|']\n",
    "    cleaned_words = [word for word in words if word not in sign]\n",
    "    \n",
    "    #stemmatization\n",
    "    stemmer_ = nltk.SnowballStemmer('russian')\n",
    "    stemmed_words = []\n",
    "    for w in cleaned_words:\n",
    "        stemmed_words.append(stemmer_.stem(w))\n",
    "\n",
    "    #delete stopwords\n",
    "    with codecs.open('C:\\\\Users\\\\Olha\\\\Desktop\\\\TARTU\\\\_Hackathons\\\\Int20h\\\\stop_ukr.txt',encoding='cp1251') as ins:\n",
    "        stop_words = ins.read()\n",
    "    without_stop = [word for word in stemmed_words if word not in stop_words and len(word)>3]\n",
    "    \n",
    "    for i in range(len(without_stop)):\n",
    "        st = without_stop[i]\n",
    "        st = re.sub(r'<[^>]+>', r'',st).strip() # HTML tags\n",
    "        st = re.sub(r'http[s]?://(?:[a-z]|[0-9]|[$-_@.&amp;+]|[!*\\(\\),]|(?:%[0-9a-f][0-9a-f]))+', r'',st).strip()  # URLs \n",
    "        st = re.sub(r'(?:(?:\\d+,?)+(?:\\.?\\d+)?)', r'',st).strip() # numbers\n",
    "        without_stop[i] = st\n",
    "        \n",
    "    for w in without_stop:\n",
    "        if w not in intersect:\n",
    "            if w in d.keys():\n",
    "                d[w] += 1\n",
    "            else:\n",
    "                d[w] = 1\n",
    "    a = Counter(d)\n",
    "    b = a.most_common(100)\n",
    "    most_popular_ten_words = [k[0] for k in dict_[ : 10]]\n",
    "    return without_stop, b, most_popular_ten_words\n",
    "\n",
    "words, dict_, top = frequency_words(words)"
   ]
  },
  {
   "cell_type": "code",
   "execution_count": 51,
   "metadata": {},
   "outputs": [
    {
     "name": "stdout",
     "output_type": "stream",
     "text": [
      "The most frequent words in petition\n"
     ]
    },
    {
     "data": {
      "image/png": "[encoded data removed]",
      "text/plain": [
       "<matplotlib.figure.Figure at 0x1fbc0cca940>"
      ]
     },
     "metadata": {},
     "output_type": "display_data"
    }
   ],
   "source": [
    "def plot_popular(text):\n",
    "    plt.xticks(numpy.arange(len([k for k in text])), [k[0] for k in text], rotation = 90)\n",
    "    plt.plot(numpy.arange(len([k for k in text])), [k[1] for k in text])\n",
    "    plt.show()\n",
    "print(\"The most frequent words in petition\")\n",
    "plot_popular(dict_[:10])"
   ]
  },
  {
   "cell_type": "code",
   "execution_count": null,
   "metadata": {
    "collapsed": true
   },
   "outputs": [],
   "source": []
  }
 ],
 "metadata": {
  "kernelspec": {
   "display_name": "Python 3",
   "language": "python",
   "name": "python3"
  },
  "language_info": {
   "codemirror_mode": {
    "name": "ipython",
    "version": 3
   },
   "file_extension": ".py",
   "mimetype": "text/x-python",
   "name": "python",
   "nbconvert_exporter": "python",
   "pygments_lexer": "ipython3",
   "version": "3.6.2"
  }
 },
 "nbformat": 4,
 "nbformat_minor": 2
}
